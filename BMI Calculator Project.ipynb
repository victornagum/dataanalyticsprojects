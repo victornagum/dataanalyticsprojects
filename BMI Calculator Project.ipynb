{
 "cells": [
  {
   "cell_type": "markdown",
   "id": "38e45de9",
   "metadata": {},
   "source": [
    "# BMI Calculator"
   ]
  },
  {
   "cell_type": "code",
   "execution_count": null,
   "id": "88e081ae",
   "metadata": {},
   "outputs": [],
   "source": [
    "#BMI = (weight in pounds * 703) / (height in inches * height in inches)"
   ]
  },
  {
   "cell_type": "raw",
   "id": "72e55328",
   "metadata": {},
   "source": [
    "Under 18.5\tUnderweight\tMinimal\n",
    "18.5 - 24.9\tNormal Weight\tMinimal\n",
    "25 - 29.9\tOverweight\tIncreased\n",
    "30 - 34.9\tObese\tHigh\n",
    "35 - 39.9\tSeverely Obese\tVery High\n",
    "40 and over\tMorbidly Obese\tExtremely High"
   ]
  },
  {
   "cell_type": "code",
   "execution_count": 1,
   "id": "93b96907",
   "metadata": {},
   "outputs": [
    {
     "name": "stdout",
     "output_type": "stream",
     "text": [
      "Enter your name: victor\n",
      "Enter your height in inches: 58\n",
      "Enter your weight in pounds: 86\n",
      "Your BMI is:  17.972057074910822\n",
      "You are underweight --> Minimal\n"
     ]
    }
   ],
   "source": [
    "name = input('Enter your name: ')\n",
    "height = int(input('Enter your height in inches: '))\n",
    "weight = int(input('Enter your weight in pounds: '))\n",
    "\n",
    "BMI = (weight * 703) / (height * height )\n",
    "\n",
    "print('Your BMI is: ', BMI)\n",
    "\n",
    "if 0 < BMI < 18.5:\n",
    "    print('You are underweight --> Your risk is minimal')\n",
    "elif BMI <= 24.9:\n",
    "    print('You are normal weight --> Your risk is minimal')\n",
    "elif BMI <= 29.9:\n",
    "    print('You are Overweight --> Your risk increased')\n",
    "elif BMI <= 34.9:\n",
    "    print('You are Obese --> Your risk is high')\n",
    "elif BMI <= 39.9:\n",
    "    print('You are Severely Obese --> Your risk is very high')\n",
    "elif BMI >= 40:\n",
    "    print('You are Severely Obese --> Your risk is very high')\n",
    "else:\n",
    "    print('Enter valid inputs')"
   ]
  },
  {
   "cell_type": "code",
   "execution_count": null,
   "id": "c09a9de1",
   "metadata": {},
   "outputs": [],
   "source": []
  },
  {
   "cell_type": "code",
   "execution_count": null,
   "id": "b52196fe",
   "metadata": {},
   "outputs": [],
   "source": []
  },
  {
   "cell_type": "code",
   "execution_count": null,
   "id": "09f25907",
   "metadata": {},
   "outputs": [],
   "source": []
  }
 ],
 "metadata": {
  "kernelspec": {
   "display_name": "Python 3 (ipykernel)",
   "language": "python",
   "name": "python3"
  },
  "language_info": {
   "codemirror_mode": {
    "name": "ipython",
    "version": 3
   },
   "file_extension": ".py",
   "mimetype": "text/x-python",
   "name": "python",
   "nbconvert_exporter": "python",
   "pygments_lexer": "ipython3",
   "version": "3.11.5"
  }
 },
 "nbformat": 4,
 "nbformat_minor": 5
}
